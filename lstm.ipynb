{
 "cells": [
  {
   "cell_type": "markdown",
   "metadata": {},
   "source": [
    "# LSTM Intuition"
   ]
  },
  {
   "cell_type": "markdown",
   "metadata": {},
   "source": [
    "A cell of LSTM consists of cell state, input gate, and output gate \n",
    "In every LSTM cell, the inputs are previous hidden state (hi-1), previous cell state (ci-1), and current input (Xi). \n",
    "\n",
    "The outputs are current hidden state (hi) and current cell state (ci)"
   ]
  },
  {
   "cell_type": "code",
   "execution_count": 2,
   "metadata": {},
   "outputs": [],
   "source": [
    "def get_LSTM_cell(previous_hidden_state, previous_cell_state, current_input):\n",
    "    return current_hidden_state, current_cell_state"
   ]
  },
  {
   "cell_type": "markdown",
   "metadata": {},
   "source": [
    "## LSTM Flow"
   ]
  },
  {
   "cell_type": "markdown",
   "metadata": {},
   "source": [
    "### 1. Forget gate layer\n",
    "Forget gate decides what information that should be kept or thrown way\n",
    "\n",
    "In forget gate, previous hidden state and current input go through sigmoid function.\n",
    "This function makes value between 0 and 1, The closer to 0 means to forget, and the closer to 1 means to keep"
   ]
  },
  {
   "cell_type": "code",
   "execution_count": 3,
   "metadata": {},
   "outputs": [],
   "source": [
    "def get_LSTM_cell(previous_hidden_state, previous_cell_state, current_input):\n",
    "    combine = previous_hidden_state+current_input\n",
    "    # forget gate\n",
    "    forget_gate_vector = sigmoid_fn(combine)\n",
    "    return current_hidden_state, current_cell_state"
   ]
  },
  {
   "cell_type": "markdown",
   "metadata": {},
   "source": [
    "### 2. Input gate layer\n",
    "Input gate updates the cell state\n",
    "\n",
    "Process A = generate input gate result\n",
    "\n",
    "Previous hidden state and current input into sigmoid function. This function will transform value into 0~1. The closer to 0 means not important.\n",
    "\n",
    "Process B = generate candidate\n",
    "\n",
    "Previous hidden state and current input into tanh function. This function will transform value into -1~1 and regulate the network\n",
    "\n",
    "Process A * process B\n",
    "\n",
    "The sigmoid output will decide which information is important to keep from the tanh output"
   ]
  },
  {
   "cell_type": "code",
   "execution_count": 4,
   "metadata": {},
   "outputs": [],
   "source": [
    "def get_LSTM_cell(previous_hidden_state, previous_cell_state, current_input):\n",
    "    combine = previous_hidden_state+current_input\n",
    "    # forget gate\n",
    "    forget_gate_vector = sigmoid_fn(combine)\n",
    "    # input gate\n",
    "    input_gate_output = sigmoid_fn(combine)\n",
    "    candidate = tanh_fn(combine)\n",
    "    input_gate_vector = input_gate_output * candidate\n",
    "    return current_hidden_state, current_cell_state"
   ]
  },
  {
   "cell_type": "markdown",
   "metadata": {},
   "source": [
    "### 3. Cell State\n",
    "Previous cell state will be multiplied by forget gate vector. This has a possibility of dropping values in the cell state if it gets multiplied by values near 0.\n",
    "This result will be added by input gate vector which updates the cell state to new values that the neural network finds relevant"
   ]
  },
  {
   "cell_type": "code",
   "execution_count": 5,
   "metadata": {},
   "outputs": [],
   "source": [
    "def get_LSTM_cell(previous_hidden_state, previous_cell_state, current_input):\n",
    "    combine = previous_hidden_state+current_input\n",
    "    # forget gate\n",
    "    forget_gate_vector = sigmoid_fn(combine)\n",
    "    # input gate\n",
    "    input_gate_output = sigmoid_fn(combine)\n",
    "    candidate = tanh_fn(combine)\n",
    "    input_gate_vector = input_gate_output * candidate\n",
    "    # cell state\n",
    "    current_cell_state = (previous_cell_state * forget_gate_vector) + input_gate_vector\n",
    "    return current_hidden_state, current_cell_state"
   ]
  },
  {
   "cell_type": "markdown",
   "metadata": {},
   "source": [
    "### 4. Output gate\n",
    "The output gate decides what the next hidden state should be.\n",
    "\n",
    "Process A\n",
    "\n",
    "pass the previous hidden state and the current input into a sigmoid function\n",
    " \n",
    "Process B\n",
    "\n",
    "pass new cell state to tanh function\n",
    "\n",
    "multiply process A by process B to decide what information the hidden state should carry"
   ]
  },
  {
   "cell_type": "code",
   "execution_count": 6,
   "metadata": {},
   "outputs": [],
   "source": [
    "def get_LSTM_cell(previous_hidden_state, previous_cell_state, current_input):\n",
    "    combine = previous_hidden_state+current_input\n",
    "    # forget gate\n",
    "    forget_gate_vector = sigmoid_fn(combine)\n",
    "    # input gate\n",
    "    input_gate_output = sigmoid_fn(combine)\n",
    "    candidate = tanh_fn(combine)\n",
    "    input_gate_vector = input_gate_output * candidate\n",
    "    # cell state\n",
    "    current_cell_state = (previous_cell_state * forget_gate_vector) + input_gate_vector\n",
    "    #output gate\n",
    "    output_gate_vector = sigmoid_fn(combine)\n",
    "    current_hidden_state = tanh_fn(current_cell_state) * output_gate_vector\n",
    "    return current_hidden_state, current_cell_state"
   ]
  },
  {
   "cell_type": "code",
   "execution_count": null,
   "metadata": {},
   "outputs": [],
   "source": []
  }
 ],
 "metadata": {
  "kernelspec": {
   "display_name": "Python 3",
   "language": "python",
   "name": "python3"
  },
  "language_info": {
   "codemirror_mode": {
    "name": "ipython",
    "version": 3
   },
   "file_extension": ".py",
   "mimetype": "text/x-python",
   "name": "python",
   "nbconvert_exporter": "python",
   "pygments_lexer": "ipython3",
   "version": "3.6.8"
  }
 },
 "nbformat": 4,
 "nbformat_minor": 4
}
